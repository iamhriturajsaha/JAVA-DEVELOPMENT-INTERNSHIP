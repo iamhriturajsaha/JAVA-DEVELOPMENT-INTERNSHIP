{
  "nbformat": 4,
  "nbformat_minor": 0,
  "metadata": {
    "colab": {
      "provenance": []
    },
    "kernelspec": {
      "name": "python3",
      "display_name": "Python 3"
    },
    "language_info": {
      "name": "python"
    }
  },
  "cells": [
    {
      "cell_type": "code",
      "execution_count": 2,
      "metadata": {
        "colab": {
          "base_uri": "https://localhost:8080/"
        },
        "id": "ANU7JAYjOBrA",
        "outputId": "8132bfd0-2a0f-486c-ba30-fb1b18960f95"
      },
      "outputs": [
        {
          "output_type": "stream",
          "name": "stdout",
          "text": [
            "Requirement already satisfied: pandas in /usr/local/lib/python3.11/dist-packages (2.2.2)\n",
            "Requirement already satisfied: numpy in /usr/local/lib/python3.11/dist-packages (2.0.2)\n",
            "Requirement already satisfied: lightgbm in /usr/local/lib/python3.11/dist-packages (4.5.0)\n",
            "Collecting optuna\n",
            "  Downloading optuna-4.4.0-py3-none-any.whl.metadata (17 kB)\n",
            "Requirement already satisfied: scikit-learn in /usr/local/lib/python3.11/dist-packages (1.6.1)\n",
            "Requirement already satisfied: python-dateutil>=2.8.2 in /usr/local/lib/python3.11/dist-packages (from pandas) (2.9.0.post0)\n",
            "Requirement already satisfied: pytz>=2020.1 in /usr/local/lib/python3.11/dist-packages (from pandas) (2025.2)\n",
            "Requirement already satisfied: tzdata>=2022.7 in /usr/local/lib/python3.11/dist-packages (from pandas) (2025.2)\n",
            "Requirement already satisfied: scipy in /usr/local/lib/python3.11/dist-packages (from lightgbm) (1.15.3)\n",
            "Collecting alembic>=1.5.0 (from optuna)\n",
            "  Downloading alembic-1.16.2-py3-none-any.whl.metadata (7.3 kB)\n",
            "Collecting colorlog (from optuna)\n",
            "  Downloading colorlog-6.9.0-py3-none-any.whl.metadata (10 kB)\n",
            "Requirement already satisfied: packaging>=20.0 in /usr/local/lib/python3.11/dist-packages (from optuna) (24.2)\n",
            "Requirement already satisfied: sqlalchemy>=1.4.2 in /usr/local/lib/python3.11/dist-packages (from optuna) (2.0.41)\n",
            "Requirement already satisfied: tqdm in /usr/local/lib/python3.11/dist-packages (from optuna) (4.67.1)\n",
            "Requirement already satisfied: PyYAML in /usr/local/lib/python3.11/dist-packages (from optuna) (6.0.2)\n",
            "Requirement already satisfied: joblib>=1.2.0 in /usr/local/lib/python3.11/dist-packages (from scikit-learn) (1.5.1)\n",
            "Requirement already satisfied: threadpoolctl>=3.1.0 in /usr/local/lib/python3.11/dist-packages (from scikit-learn) (3.6.0)\n",
            "Requirement already satisfied: Mako in /usr/lib/python3/dist-packages (from alembic>=1.5.0->optuna) (1.1.3)\n",
            "Requirement already satisfied: typing-extensions>=4.12 in /usr/local/lib/python3.11/dist-packages (from alembic>=1.5.0->optuna) (4.14.0)\n",
            "Requirement already satisfied: six>=1.5 in /usr/local/lib/python3.11/dist-packages (from python-dateutil>=2.8.2->pandas) (1.17.0)\n",
            "Requirement already satisfied: greenlet>=1 in /usr/local/lib/python3.11/dist-packages (from sqlalchemy>=1.4.2->optuna) (3.2.3)\n",
            "Downloading optuna-4.4.0-py3-none-any.whl (395 kB)\n",
            "\u001b[2K   \u001b[90m━━━━━━━━━━━━━━━━━━━━━━━━━━━━━━━━━━━━━━━━\u001b[0m \u001b[32m395.9/395.9 kB\u001b[0m \u001b[31m10.1 MB/s\u001b[0m eta \u001b[36m0:00:00\u001b[0m\n",
            "\u001b[?25hDownloading alembic-1.16.2-py3-none-any.whl (242 kB)\n",
            "\u001b[2K   \u001b[90m━━━━━━━━━━━━━━━━━━━━━━━━━━━━━━━━━━━━━━━━\u001b[0m \u001b[32m242.7/242.7 kB\u001b[0m \u001b[31m16.6 MB/s\u001b[0m eta \u001b[36m0:00:00\u001b[0m\n",
            "\u001b[?25hDownloading colorlog-6.9.0-py3-none-any.whl (11 kB)\n",
            "Installing collected packages: colorlog, alembic, optuna\n",
            "Successfully installed alembic-1.16.2 colorlog-6.9.0 optuna-4.4.0\n"
          ]
        }
      ],
      "source": [
        "!pip install pandas numpy lightgbm optuna scikit-learn\n",
        "import pandas as pd\n",
        "import numpy as np\n",
        "import lightgbm as lgb\n",
        "import optuna\n",
        "from sklearn.model_selection import GroupKFold\n",
        "from sklearn.metrics import mean_squared_error\n",
        "from sklearn.preprocessing import LabelEncoder\n",
        "import datetime as dt"
      ]
    },
    {
      "cell_type": "code",
      "source": [
        "train = pd.read_csv('train.csv', parse_dates=['doj'])\n",
        "test = pd.read_csv('test.csv', parse_dates=['doj'])\n",
        "transactions = pd.read_csv('transactions.csv', parse_dates=['doj', 'doi'])"
      ],
      "metadata": {
        "id": "BlHIUQIsRVm3"
      },
      "execution_count": 9,
      "outputs": []
    },
    {
      "cell_type": "code",
      "source": [
        "trans_15 = transactions[transactions['dbd'] == 15].copy()"
      ],
      "metadata": {
        "id": "T1tPEj8xRa87"
      },
      "execution_count": 10,
      "outputs": []
    },
    {
      "cell_type": "code",
      "source": [
        "features = ['doj', 'srcid', 'destid', 'cumsum_seatcount', 'cumsum_searchcount',\n",
        "            'srcid_region', 'destid_region', 'srcid_tier', 'destid_tier']\n",
        "\n",
        "trans_15 = trans_15[features]\n",
        "\n",
        "train_merged = train.merge(trans_15, on=['doj', 'srcid', 'destid'], how='left')\n",
        "test_merged = test.merge(trans_15, on=['doj', 'srcid', 'destid'], how='left')"
      ],
      "metadata": {
        "id": "gg-M0Pe2RdH4"
      },
      "execution_count": 12,
      "outputs": []
    },
    {
      "cell_type": "code",
      "source": [
        "def add_date_features(df):\n",
        "    df['dayofweek'] = df['doj'].dt.dayofweek\n",
        "    df['month'] = df['doj'].dt.month\n",
        "    df['is_weekend'] = df['dayofweek'].isin([5, 6]).astype(int)\n",
        "    return df\n",
        "\n",
        "train_merged = add_date_features(train_merged)\n",
        "test_merged = add_date_features(test_merged)\n",
        "\n",
        "train_merged['search_to_book'] = train_merged['cumsum_searchcount'] / (train_merged['cumsum_seatcount'] + 1)\n",
        "test_merged['search_to_book'] = test_merged['cumsum_searchcount'] / (test_merged['cumsum_seatcount'] + 1)\n",
        "\n",
        "for col in ['cumsum_seatcount', 'cumsum_searchcount', 'search_to_book']:\n",
        "    train_merged[col] = train_merged[col].fillna(0)\n",
        "    test_merged[col] = test_merged[col].fillna(0)\n",
        "\n",
        "cat_cols = ['srcid_region', 'destid_region', 'srcid_tier', 'destid_tier']\n",
        "le_dict = {}\n",
        "for col in cat_cols:\n",
        "    le = LabelEncoder()\n",
        "    train_merged[col] = le.fit_transform(train_merged[col].astype(str))\n",
        "    test_merged[col] = le.transform(test_merged[col].astype(str))\n",
        "    le_dict[col] = le"
      ],
      "metadata": {
        "id": "LAJnGiznRkME"
      },
      "execution_count": 13,
      "outputs": []
    },
    {
      "cell_type": "code",
      "source": [
        "features = ['srcid', 'destid', 'cumsum_seatcount', 'cumsum_searchcount', 'search_to_book',\n",
        "            'srcid_region', 'destid_region', 'srcid_tier', 'destid_tier', 'dayofweek', 'month', 'is_weekend']\n",
        "\n",
        "target = 'final_seatcount'\n",
        "X = train_merged[features]\n",
        "y = train_merged[target]\n",
        "X_test = test_merged[features]"
      ],
      "metadata": {
        "id": "04pWvnlfRm5W"
      },
      "execution_count": 14,
      "outputs": []
    },
    {
      "cell_type": "code",
      "source": [
        "def objective(trial):\n",
        "    params = {\n",
        "        'objective': 'regression',\n",
        "        'metric': 'rmse',\n",
        "        'verbosity': -1,\n",
        "        'boosting_type': 'gbdt',\n",
        "        'learning_rate': trial.suggest_float('learning_rate', 0.01, 0.2),\n",
        "        'num_leaves': trial.suggest_int('num_leaves', 31, 256),\n",
        "        'feature_fraction': trial.suggest_float('feature_fraction', 0.7, 1.0),\n",
        "        'bagging_fraction': trial.suggest_float('bagging_fraction', 0.7, 1.0),\n",
        "        'bagging_freq': trial.suggest_int('bagging_freq', 1, 10),\n",
        "        'min_data_in_leaf': trial.suggest_int('min_data_in_leaf', 20, 100)\n",
        "    }\n",
        "\n",
        "    cv = GroupKFold(n_splits=5)\n",
        "    oof_preds = np.zeros(X.shape[0])\n",
        "    for fold, (train_idx, val_idx) in enumerate(cv.split(X, y, groups=train_merged['doj'])):\n",
        "        X_train, y_train = X.iloc[train_idx], y.iloc[train_idx]\n",
        "        X_val, y_val = X.iloc[val_idx], y.iloc[val_idx]\n",
        "\n",
        "        model = lgb.LGBMRegressor(**params, n_estimators=1000)\n",
        "        model.fit(X_train, y_train,\n",
        "                  eval_set=[(X_val, y_val)],\n",
        "                  callbacks=[lgb.early_stopping(stopping_rounds=50, verbose=False)])\n",
        "\n",
        "        oof_preds[val_idx] = model.predict(X_val, num_iteration=model.best_iteration_)\n",
        "\n",
        "    rmse = np.sqrt(mean_squared_error(y, oof_preds))\n",
        "    print(f\"Trial RMSE: {rmse:.4f}\")\n",
        "    return rmse\n",
        "\n",
        "study = optuna.create_study(direction='minimize')\n",
        "study.optimize(objective, n_trials=30)"
      ],
      "metadata": {
        "colab": {
          "base_uri": "https://localhost:8080/"
        },
        "id": "4L3vzYctRpyK",
        "outputId": "2d88b68d-58ba-43ed-8727-430812423d9f"
      },
      "execution_count": 17,
      "outputs": [
        {
          "output_type": "stream",
          "name": "stderr",
          "text": [
            "[I 2025-06-18 13:46:32,726] A new study created in memory with name: no-name-5e3cdc0c-7832-472f-9263-1b5cd562d06a\n",
            "[I 2025-06-18 13:46:50,850] Trial 0 finished with value: 453.4814659835137 and parameters: {'learning_rate': 0.13722548128787346, 'num_leaves': 84, 'feature_fraction': 0.7673518966985811, 'bagging_fraction': 0.7492962233045292, 'bagging_freq': 5, 'min_data_in_leaf': 75}. Best is trial 0 with value: 453.4814659835137.\n"
          ]
        },
        {
          "output_type": "stream",
          "name": "stdout",
          "text": [
            "Trial RMSE: 453.4815\n"
          ]
        },
        {
          "output_type": "stream",
          "name": "stderr",
          "text": [
            "[I 2025-06-18 13:47:17,524] Trial 1 finished with value: 460.5655367650035 and parameters: {'learning_rate': 0.10518138278412673, 'num_leaves': 228, 'feature_fraction': 0.8415538702561272, 'bagging_fraction': 0.8101408619500473, 'bagging_freq': 5, 'min_data_in_leaf': 90}. Best is trial 0 with value: 453.4814659835137.\n"
          ]
        },
        {
          "output_type": "stream",
          "name": "stdout",
          "text": [
            "Trial RMSE: 460.5655\n"
          ]
        },
        {
          "output_type": "stream",
          "name": "stderr",
          "text": [
            "[I 2025-06-18 13:48:01,255] Trial 2 finished with value: 446.2120118492755 and parameters: {'learning_rate': 0.05211071044675759, 'num_leaves': 34, 'feature_fraction': 0.7786371785582827, 'bagging_fraction': 0.8026477662267294, 'bagging_freq': 10, 'min_data_in_leaf': 83}. Best is trial 2 with value: 446.2120118492755.\n"
          ]
        },
        {
          "output_type": "stream",
          "name": "stdout",
          "text": [
            "Trial RMSE: 446.2120\n"
          ]
        },
        {
          "output_type": "stream",
          "name": "stderr",
          "text": [
            "[I 2025-06-18 13:48:27,665] Trial 3 finished with value: 453.32952491046063 and parameters: {'learning_rate': 0.07400757470412092, 'num_leaves': 228, 'feature_fraction': 0.7590649417595074, 'bagging_fraction': 0.9416592187747532, 'bagging_freq': 9, 'min_data_in_leaf': 66}. Best is trial 2 with value: 446.2120118492755.\n"
          ]
        },
        {
          "output_type": "stream",
          "name": "stdout",
          "text": [
            "Trial RMSE: 453.3295\n"
          ]
        },
        {
          "output_type": "stream",
          "name": "stderr",
          "text": [
            "[I 2025-06-18 13:48:54,466] Trial 4 finished with value: 451.5569488835897 and parameters: {'learning_rate': 0.11670086615480346, 'num_leaves': 65, 'feature_fraction': 0.8802338865804542, 'bagging_fraction': 0.9814282986140785, 'bagging_freq': 6, 'min_data_in_leaf': 93}. Best is trial 2 with value: 446.2120118492755.\n"
          ]
        },
        {
          "output_type": "stream",
          "name": "stdout",
          "text": [
            "Trial RMSE: 451.5569\n"
          ]
        },
        {
          "output_type": "stream",
          "name": "stderr",
          "text": [
            "[I 2025-06-18 13:49:20,836] Trial 5 finished with value: 452.24831124795514 and parameters: {'learning_rate': 0.09653064007564158, 'num_leaves': 78, 'feature_fraction': 0.9867284369951126, 'bagging_fraction': 0.8886544186567558, 'bagging_freq': 7, 'min_data_in_leaf': 85}. Best is trial 2 with value: 446.2120118492755.\n"
          ]
        },
        {
          "output_type": "stream",
          "name": "stdout",
          "text": [
            "Trial RMSE: 452.2483\n"
          ]
        },
        {
          "output_type": "stream",
          "name": "stderr",
          "text": [
            "[I 2025-06-18 13:49:36,118] Trial 6 finished with value: 446.8893517231865 and parameters: {'learning_rate': 0.1703735388002166, 'num_leaves': 32, 'feature_fraction': 0.914329875691831, 'bagging_fraction': 0.9526987412445438, 'bagging_freq': 5, 'min_data_in_leaf': 61}. Best is trial 2 with value: 446.2120118492755.\n"
          ]
        },
        {
          "output_type": "stream",
          "name": "stdout",
          "text": [
            "Trial RMSE: 446.8894\n"
          ]
        },
        {
          "output_type": "stream",
          "name": "stderr",
          "text": [
            "[I 2025-06-18 13:49:56,992] Trial 7 finished with value: 449.9915456163968 and parameters: {'learning_rate': 0.09052545883156868, 'num_leaves': 89, 'feature_fraction': 0.7897194240041641, 'bagging_fraction': 0.7701400997311039, 'bagging_freq': 7, 'min_data_in_leaf': 61}. Best is trial 2 with value: 446.2120118492755.\n"
          ]
        },
        {
          "output_type": "stream",
          "name": "stdout",
          "text": [
            "Trial RMSE: 449.9915\n"
          ]
        },
        {
          "output_type": "stream",
          "name": "stderr",
          "text": [
            "[I 2025-06-18 13:50:05,689] Trial 8 finished with value: 454.4773641472358 and parameters: {'learning_rate': 0.18933435403832363, 'num_leaves': 139, 'feature_fraction': 0.7916742863294943, 'bagging_fraction': 0.8357676867778947, 'bagging_freq': 6, 'min_data_in_leaf': 20}. Best is trial 2 with value: 446.2120118492755.\n"
          ]
        },
        {
          "output_type": "stream",
          "name": "stdout",
          "text": [
            "Trial RMSE: 454.4774\n"
          ]
        },
        {
          "output_type": "stream",
          "name": "stderr",
          "text": [
            "[I 2025-06-18 13:50:33,310] Trial 9 finished with value: 456.9081813127695 and parameters: {'learning_rate': 0.08527129662347821, 'num_leaves': 232, 'feature_fraction': 0.7657073831133567, 'bagging_fraction': 0.708686170784714, 'bagging_freq': 3, 'min_data_in_leaf': 72}. Best is trial 2 with value: 446.2120118492755.\n"
          ]
        },
        {
          "output_type": "stream",
          "name": "stdout",
          "text": [
            "Trial RMSE: 456.9082\n"
          ]
        },
        {
          "output_type": "stream",
          "name": "stderr",
          "text": [
            "[I 2025-06-18 13:51:51,545] Trial 10 finished with value: 444.0973623371996 and parameters: {'learning_rate': 0.017022738585740882, 'num_leaves': 161, 'feature_fraction': 0.7157517002179341, 'bagging_fraction': 0.8847604898689406, 'bagging_freq': 10, 'min_data_in_leaf': 41}. Best is trial 10 with value: 444.0973623371996.\n"
          ]
        },
        {
          "output_type": "stream",
          "name": "stdout",
          "text": [
            "Trial RMSE: 444.0974\n"
          ]
        },
        {
          "output_type": "stream",
          "name": "stderr",
          "text": [
            "[I 2025-06-18 13:53:17,554] Trial 11 finished with value: 443.5412603021604 and parameters: {'learning_rate': 0.01346328516615344, 'num_leaves': 175, 'feature_fraction': 0.7024848803486391, 'bagging_fraction': 0.8834302235683357, 'bagging_freq': 10, 'min_data_in_leaf': 39}. Best is trial 11 with value: 443.5412603021604.\n"
          ]
        },
        {
          "output_type": "stream",
          "name": "stdout",
          "text": [
            "Trial RMSE: 443.5413\n"
          ]
        },
        {
          "output_type": "stream",
          "name": "stderr",
          "text": [
            "[I 2025-06-18 13:54:50,733] Trial 12 finished with value: 443.8192977604172 and parameters: {'learning_rate': 0.011008363464232018, 'num_leaves': 173, 'feature_fraction': 0.7037729961881257, 'bagging_fraction': 0.8877771330332833, 'bagging_freq': 10, 'min_data_in_leaf': 39}. Best is trial 11 with value: 443.5412603021604.\n"
          ]
        },
        {
          "output_type": "stream",
          "name": "stdout",
          "text": [
            "Trial RMSE: 443.8193\n"
          ]
        },
        {
          "output_type": "stream",
          "name": "stderr",
          "text": [
            "[I 2025-06-18 13:56:03,132] Trial 13 finished with value: 445.49955820429454 and parameters: {'learning_rate': 0.014778069874288851, 'num_leaves': 176, 'feature_fraction': 0.8305808893811844, 'bagging_fraction': 0.887907308837241, 'bagging_freq': 1, 'min_data_in_leaf': 42}. Best is trial 11 with value: 443.5412603021604.\n"
          ]
        },
        {
          "output_type": "stream",
          "name": "stdout",
          "text": [
            "Trial RMSE: 445.4996\n"
          ]
        },
        {
          "output_type": "stream",
          "name": "stderr",
          "text": [
            "[I 2025-06-18 13:56:32,469] Trial 14 finished with value: 444.46466853848585 and parameters: {'learning_rate': 0.046283537738395206, 'num_leaves': 191, 'feature_fraction': 0.7020846309654244, 'bagging_fraction': 0.9116687219069126, 'bagging_freq': 8, 'min_data_in_leaf': 42}. Best is trial 11 with value: 443.5412603021604.\n"
          ]
        },
        {
          "output_type": "stream",
          "name": "stdout",
          "text": [
            "Trial RMSE: 444.4647\n"
          ]
        },
        {
          "output_type": "stream",
          "name": "stderr",
          "text": [
            "[I 2025-06-18 13:57:03,680] Trial 15 finished with value: 441.81727202742036 and parameters: {'learning_rate': 0.039309340296804024, 'num_leaves': 129, 'feature_fraction': 0.7293123039886377, 'bagging_fraction': 0.8567775574601856, 'bagging_freq': 9, 'min_data_in_leaf': 26}. Best is trial 15 with value: 441.81727202742036.\n"
          ]
        },
        {
          "output_type": "stream",
          "name": "stdout",
          "text": [
            "Trial RMSE: 441.8173\n"
          ]
        },
        {
          "output_type": "stream",
          "name": "stderr",
          "text": [
            "[I 2025-06-18 13:57:32,303] Trial 16 finished with value: 441.9003865042739 and parameters: {'learning_rate': 0.04230542164456722, 'num_leaves': 125, 'feature_fraction': 0.7302060144153768, 'bagging_fraction': 0.848064681720057, 'bagging_freq': 8, 'min_data_in_leaf': 20}. Best is trial 15 with value: 441.81727202742036.\n"
          ]
        },
        {
          "output_type": "stream",
          "name": "stdout",
          "text": [
            "Trial RMSE: 441.9004\n"
          ]
        },
        {
          "output_type": "stream",
          "name": "stderr",
          "text": [
            "[I 2025-06-18 13:57:58,514] Trial 17 finished with value: 441.71885713741716 and parameters: {'learning_rate': 0.04610864423645824, 'num_leaves': 128, 'feature_fraction': 0.734723742385569, 'bagging_fraction': 0.8395581112710775, 'bagging_freq': 8, 'min_data_in_leaf': 21}. Best is trial 17 with value: 441.71885713741716.\n"
          ]
        },
        {
          "output_type": "stream",
          "name": "stdout",
          "text": [
            "Trial RMSE: 441.7189\n"
          ]
        },
        {
          "output_type": "stream",
          "name": "stderr",
          "text": [
            "[I 2025-06-18 13:58:20,920] Trial 18 finished with value: 445.66372394192615 and parameters: {'learning_rate': 0.06476926274513242, 'num_leaves': 115, 'feature_fraction': 0.811197589971685, 'bagging_fraction': 0.815050838302152, 'bagging_freq': 8, 'min_data_in_leaf': 30}. Best is trial 17 with value: 441.71885713741716.\n"
          ]
        },
        {
          "output_type": "stream",
          "name": "stdout",
          "text": [
            "Trial RMSE: 445.6637\n"
          ]
        },
        {
          "output_type": "stream",
          "name": "stderr",
          "text": [
            "[I 2025-06-18 13:59:08,221] Trial 19 finished with value: 446.40713194295444 and parameters: {'learning_rate': 0.03472656315553155, 'num_leaves': 115, 'feature_fraction': 0.7380770665979183, 'bagging_fraction': 0.7674473709196906, 'bagging_freq': 9, 'min_data_in_leaf': 53}. Best is trial 17 with value: 441.71885713741716.\n"
          ]
        },
        {
          "output_type": "stream",
          "name": "stdout",
          "text": [
            "Trial RMSE: 446.4071\n"
          ]
        },
        {
          "output_type": "stream",
          "name": "stderr",
          "text": [
            "[I 2025-06-18 13:59:21,693] Trial 20 finished with value: 453.2737318886199 and parameters: {'learning_rate': 0.13322616681540708, 'num_leaves': 197, 'feature_fraction': 0.8752814627607195, 'bagging_fraction': 0.8485620830369931, 'bagging_freq': 7, 'min_data_in_leaf': 26}. Best is trial 17 with value: 441.71885713741716.\n"
          ]
        },
        {
          "output_type": "stream",
          "name": "stdout",
          "text": [
            "Trial RMSE: 453.2737\n"
          ]
        },
        {
          "output_type": "stream",
          "name": "stderr",
          "text": [
            "[I 2025-06-18 13:59:57,415] Trial 21 finished with value: 441.46127397810375 and parameters: {'learning_rate': 0.03550693558050911, 'num_leaves': 131, 'feature_fraction': 0.7381739363521873, 'bagging_fraction': 0.8524166599608531, 'bagging_freq': 8, 'min_data_in_leaf': 22}. Best is trial 21 with value: 441.46127397810375.\n"
          ]
        },
        {
          "output_type": "stream",
          "name": "stdout",
          "text": [
            "Trial RMSE: 441.4613\n"
          ]
        },
        {
          "output_type": "stream",
          "name": "stderr",
          "text": [
            "[I 2025-06-18 14:00:35,098] Trial 22 finished with value: 442.37107108150366 and parameters: {'learning_rate': 0.033318993817338334, 'num_leaves': 147, 'feature_fraction': 0.7440222912555192, 'bagging_fraction': 0.9189528205833566, 'bagging_freq': 9, 'min_data_in_leaf': 31}. Best is trial 21 with value: 441.46127397810375.\n"
          ]
        },
        {
          "output_type": "stream",
          "name": "stdout",
          "text": [
            "Trial RMSE: 442.3711\n"
          ]
        },
        {
          "output_type": "stream",
          "name": "stderr",
          "text": [
            "[I 2025-06-18 14:00:58,450] Trial 23 finished with value: 443.51673180184616 and parameters: {'learning_rate': 0.06233658288793828, 'num_leaves': 108, 'feature_fraction': 0.7372385566632457, 'bagging_fraction': 0.829254171141295, 'bagging_freq': 8, 'min_data_in_leaf': 28}. Best is trial 21 with value: 441.46127397810375.\n"
          ]
        },
        {
          "output_type": "stream",
          "name": "stdout",
          "text": [
            "Trial RMSE: 443.5167\n"
          ]
        },
        {
          "output_type": "stream",
          "name": "stderr",
          "text": [
            "[I 2025-06-18 14:01:43,782] Trial 24 finished with value: 447.3714497273731 and parameters: {'learning_rate': 0.029162243320155684, 'num_leaves': 138, 'feature_fraction': 0.8095461754646324, 'bagging_fraction': 0.864150837772638, 'bagging_freq': 9, 'min_data_in_leaf': 53}. Best is trial 21 with value: 441.46127397810375.\n"
          ]
        },
        {
          "output_type": "stream",
          "name": "stdout",
          "text": [
            "Trial RMSE: 447.3714\n"
          ]
        },
        {
          "output_type": "stream",
          "name": "stderr",
          "text": [
            "[I 2025-06-18 14:02:09,303] Trial 25 finished with value: 446.23753815874903 and parameters: {'learning_rate': 0.05813390477428908, 'num_leaves': 101, 'feature_fraction': 0.9433314811170783, 'bagging_fraction': 0.7880937445391396, 'bagging_freq': 4, 'min_data_in_leaf': 34}. Best is trial 21 with value: 441.46127397810375.\n"
          ]
        },
        {
          "output_type": "stream",
          "name": "stdout",
          "text": [
            "Trial RMSE: 446.2375\n"
          ]
        },
        {
          "output_type": "stream",
          "name": "stderr",
          "text": [
            "[I 2025-06-18 14:02:26,297] Trial 26 finished with value: 445.6990439578973 and parameters: {'learning_rate': 0.07807095192527924, 'num_leaves': 151, 'feature_fraction': 0.7504351927423958, 'bagging_fraction': 0.8622679566749339, 'bagging_freq': 7, 'min_data_in_leaf': 24}. Best is trial 21 with value: 441.46127397810375.\n"
          ]
        },
        {
          "output_type": "stream",
          "name": "stdout",
          "text": [
            "Trial RMSE: 445.6990\n"
          ]
        },
        {
          "output_type": "stream",
          "name": "stderr",
          "text": [
            "[I 2025-06-18 14:03:18,732] Trial 27 finished with value: 447.76347276628144 and parameters: {'learning_rate': 0.02845517579625884, 'num_leaves': 256, 'feature_fraction': 0.7280886334489655, 'bagging_fraction': 0.9199680289479817, 'bagging_freq': 8, 'min_data_in_leaf': 48}. Best is trial 21 with value: 441.46127397810375.\n"
          ]
        },
        {
          "output_type": "stream",
          "name": "stdout",
          "text": [
            "Trial RMSE: 447.7635\n"
          ]
        },
        {
          "output_type": "stream",
          "name": "stderr",
          "text": [
            "[I 2025-06-18 14:03:39,976] Trial 28 finished with value: 446.85834590572136 and parameters: {'learning_rate': 0.07055702713133924, 'num_leaves': 128, 'feature_fraction': 0.8048577340774336, 'bagging_fraction': 0.8259916992935493, 'bagging_freq': 6, 'min_data_in_leaf': 34}. Best is trial 21 with value: 441.46127397810375.\n"
          ]
        },
        {
          "output_type": "stream",
          "name": "stdout",
          "text": [
            "Trial RMSE: 446.8583\n"
          ]
        },
        {
          "output_type": "stream",
          "name": "stderr",
          "text": [
            "[I 2025-06-18 14:04:10,347] Trial 29 finished with value: 441.7966215664142 and parameters: {'learning_rate': 0.04589505767842613, 'num_leaves': 92, 'feature_fraction': 0.7709512368818159, 'bagging_fraction': 0.790705369981963, 'bagging_freq': 3, 'min_data_in_leaf': 24}. Best is trial 21 with value: 441.46127397810375.\n"
          ]
        },
        {
          "output_type": "stream",
          "name": "stdout",
          "text": [
            "Trial RMSE: 441.7966\n"
          ]
        }
      ]
    },
    {
      "cell_type": "code",
      "source": [
        "best_params = study.best_trial.params\n",
        "best_params.update({\"objective\": \"regression\", \"metric\": \"rmse\", \"verbosity\": -1})\n",
        "\n",
        "final_model = lgb.LGBMRegressor(**best_params, n_estimators=1000)\n",
        "final_model.fit(X, y)"
      ],
      "metadata": {
        "colab": {
          "base_uri": "https://localhost:8080/",
          "height": 149
        },
        "id": "1xWMSL8CStKj",
        "outputId": "50b314b0-bd28-4044-ffe7-4aaf26be018a"
      },
      "execution_count": 18,
      "outputs": [
        {
          "output_type": "execute_result",
          "data": {
            "text/plain": [
              "LGBMRegressor(bagging_fraction=0.8524166599608531, bagging_freq=8,\n",
              "              feature_fraction=0.7381739363521873,\n",
              "              learning_rate=0.03550693558050911, metric='rmse',\n",
              "              min_data_in_leaf=22, n_estimators=1000, num_leaves=131,\n",
              "              objective='regression', verbosity=-1)"
            ],
            "text/html": [
              "<style>#sk-container-id-1 {\n",
              "  /* Definition of color scheme common for light and dark mode */\n",
              "  --sklearn-color-text: #000;\n",
              "  --sklearn-color-text-muted: #666;\n",
              "  --sklearn-color-line: gray;\n",
              "  /* Definition of color scheme for unfitted estimators */\n",
              "  --sklearn-color-unfitted-level-0: #fff5e6;\n",
              "  --sklearn-color-unfitted-level-1: #f6e4d2;\n",
              "  --sklearn-color-unfitted-level-2: #ffe0b3;\n",
              "  --sklearn-color-unfitted-level-3: chocolate;\n",
              "  /* Definition of color scheme for fitted estimators */\n",
              "  --sklearn-color-fitted-level-0: #f0f8ff;\n",
              "  --sklearn-color-fitted-level-1: #d4ebff;\n",
              "  --sklearn-color-fitted-level-2: #b3dbfd;\n",
              "  --sklearn-color-fitted-level-3: cornflowerblue;\n",
              "\n",
              "  /* Specific color for light theme */\n",
              "  --sklearn-color-text-on-default-background: var(--sg-text-color, var(--theme-code-foreground, var(--jp-content-font-color1, black)));\n",
              "  --sklearn-color-background: var(--sg-background-color, var(--theme-background, var(--jp-layout-color0, white)));\n",
              "  --sklearn-color-border-box: var(--sg-text-color, var(--theme-code-foreground, var(--jp-content-font-color1, black)));\n",
              "  --sklearn-color-icon: #696969;\n",
              "\n",
              "  @media (prefers-color-scheme: dark) {\n",
              "    /* Redefinition of color scheme for dark theme */\n",
              "    --sklearn-color-text-on-default-background: var(--sg-text-color, var(--theme-code-foreground, var(--jp-content-font-color1, white)));\n",
              "    --sklearn-color-background: var(--sg-background-color, var(--theme-background, var(--jp-layout-color0, #111)));\n",
              "    --sklearn-color-border-box: var(--sg-text-color, var(--theme-code-foreground, var(--jp-content-font-color1, white)));\n",
              "    --sklearn-color-icon: #878787;\n",
              "  }\n",
              "}\n",
              "\n",
              "#sk-container-id-1 {\n",
              "  color: var(--sklearn-color-text);\n",
              "}\n",
              "\n",
              "#sk-container-id-1 pre {\n",
              "  padding: 0;\n",
              "}\n",
              "\n",
              "#sk-container-id-1 input.sk-hidden--visually {\n",
              "  border: 0;\n",
              "  clip: rect(1px 1px 1px 1px);\n",
              "  clip: rect(1px, 1px, 1px, 1px);\n",
              "  height: 1px;\n",
              "  margin: -1px;\n",
              "  overflow: hidden;\n",
              "  padding: 0;\n",
              "  position: absolute;\n",
              "  width: 1px;\n",
              "}\n",
              "\n",
              "#sk-container-id-1 div.sk-dashed-wrapped {\n",
              "  border: 1px dashed var(--sklearn-color-line);\n",
              "  margin: 0 0.4em 0.5em 0.4em;\n",
              "  box-sizing: border-box;\n",
              "  padding-bottom: 0.4em;\n",
              "  background-color: var(--sklearn-color-background);\n",
              "}\n",
              "\n",
              "#sk-container-id-1 div.sk-container {\n",
              "  /* jupyter's `normalize.less` sets `[hidden] { display: none; }`\n",
              "     but bootstrap.min.css set `[hidden] { display: none !important; }`\n",
              "     so we also need the `!important` here to be able to override the\n",
              "     default hidden behavior on the sphinx rendered scikit-learn.org.\n",
              "     See: https://github.com/scikit-learn/scikit-learn/issues/21755 */\n",
              "  display: inline-block !important;\n",
              "  position: relative;\n",
              "}\n",
              "\n",
              "#sk-container-id-1 div.sk-text-repr-fallback {\n",
              "  display: none;\n",
              "}\n",
              "\n",
              "div.sk-parallel-item,\n",
              "div.sk-serial,\n",
              "div.sk-item {\n",
              "  /* draw centered vertical line to link estimators */\n",
              "  background-image: linear-gradient(var(--sklearn-color-text-on-default-background), var(--sklearn-color-text-on-default-background));\n",
              "  background-size: 2px 100%;\n",
              "  background-repeat: no-repeat;\n",
              "  background-position: center center;\n",
              "}\n",
              "\n",
              "/* Parallel-specific style estimator block */\n",
              "\n",
              "#sk-container-id-1 div.sk-parallel-item::after {\n",
              "  content: \"\";\n",
              "  width: 100%;\n",
              "  border-bottom: 2px solid var(--sklearn-color-text-on-default-background);\n",
              "  flex-grow: 1;\n",
              "}\n",
              "\n",
              "#sk-container-id-1 div.sk-parallel {\n",
              "  display: flex;\n",
              "  align-items: stretch;\n",
              "  justify-content: center;\n",
              "  background-color: var(--sklearn-color-background);\n",
              "  position: relative;\n",
              "}\n",
              "\n",
              "#sk-container-id-1 div.sk-parallel-item {\n",
              "  display: flex;\n",
              "  flex-direction: column;\n",
              "}\n",
              "\n",
              "#sk-container-id-1 div.sk-parallel-item:first-child::after {\n",
              "  align-self: flex-end;\n",
              "  width: 50%;\n",
              "}\n",
              "\n",
              "#sk-container-id-1 div.sk-parallel-item:last-child::after {\n",
              "  align-self: flex-start;\n",
              "  width: 50%;\n",
              "}\n",
              "\n",
              "#sk-container-id-1 div.sk-parallel-item:only-child::after {\n",
              "  width: 0;\n",
              "}\n",
              "\n",
              "/* Serial-specific style estimator block */\n",
              "\n",
              "#sk-container-id-1 div.sk-serial {\n",
              "  display: flex;\n",
              "  flex-direction: column;\n",
              "  align-items: center;\n",
              "  background-color: var(--sklearn-color-background);\n",
              "  padding-right: 1em;\n",
              "  padding-left: 1em;\n",
              "}\n",
              "\n",
              "\n",
              "/* Toggleable style: style used for estimator/Pipeline/ColumnTransformer box that is\n",
              "clickable and can be expanded/collapsed.\n",
              "- Pipeline and ColumnTransformer use this feature and define the default style\n",
              "- Estimators will overwrite some part of the style using the `sk-estimator` class\n",
              "*/\n",
              "\n",
              "/* Pipeline and ColumnTransformer style (default) */\n",
              "\n",
              "#sk-container-id-1 div.sk-toggleable {\n",
              "  /* Default theme specific background. It is overwritten whether we have a\n",
              "  specific estimator or a Pipeline/ColumnTransformer */\n",
              "  background-color: var(--sklearn-color-background);\n",
              "}\n",
              "\n",
              "/* Toggleable label */\n",
              "#sk-container-id-1 label.sk-toggleable__label {\n",
              "  cursor: pointer;\n",
              "  display: flex;\n",
              "  width: 100%;\n",
              "  margin-bottom: 0;\n",
              "  padding: 0.5em;\n",
              "  box-sizing: border-box;\n",
              "  text-align: center;\n",
              "  align-items: start;\n",
              "  justify-content: space-between;\n",
              "  gap: 0.5em;\n",
              "}\n",
              "\n",
              "#sk-container-id-1 label.sk-toggleable__label .caption {\n",
              "  font-size: 0.6rem;\n",
              "  font-weight: lighter;\n",
              "  color: var(--sklearn-color-text-muted);\n",
              "}\n",
              "\n",
              "#sk-container-id-1 label.sk-toggleable__label-arrow:before {\n",
              "  /* Arrow on the left of the label */\n",
              "  content: \"▸\";\n",
              "  float: left;\n",
              "  margin-right: 0.25em;\n",
              "  color: var(--sklearn-color-icon);\n",
              "}\n",
              "\n",
              "#sk-container-id-1 label.sk-toggleable__label-arrow:hover:before {\n",
              "  color: var(--sklearn-color-text);\n",
              "}\n",
              "\n",
              "/* Toggleable content - dropdown */\n",
              "\n",
              "#sk-container-id-1 div.sk-toggleable__content {\n",
              "  max-height: 0;\n",
              "  max-width: 0;\n",
              "  overflow: hidden;\n",
              "  text-align: left;\n",
              "  /* unfitted */\n",
              "  background-color: var(--sklearn-color-unfitted-level-0);\n",
              "}\n",
              "\n",
              "#sk-container-id-1 div.sk-toggleable__content.fitted {\n",
              "  /* fitted */\n",
              "  background-color: var(--sklearn-color-fitted-level-0);\n",
              "}\n",
              "\n",
              "#sk-container-id-1 div.sk-toggleable__content pre {\n",
              "  margin: 0.2em;\n",
              "  border-radius: 0.25em;\n",
              "  color: var(--sklearn-color-text);\n",
              "  /* unfitted */\n",
              "  background-color: var(--sklearn-color-unfitted-level-0);\n",
              "}\n",
              "\n",
              "#sk-container-id-1 div.sk-toggleable__content.fitted pre {\n",
              "  /* unfitted */\n",
              "  background-color: var(--sklearn-color-fitted-level-0);\n",
              "}\n",
              "\n",
              "#sk-container-id-1 input.sk-toggleable__control:checked~div.sk-toggleable__content {\n",
              "  /* Expand drop-down */\n",
              "  max-height: 200px;\n",
              "  max-width: 100%;\n",
              "  overflow: auto;\n",
              "}\n",
              "\n",
              "#sk-container-id-1 input.sk-toggleable__control:checked~label.sk-toggleable__label-arrow:before {\n",
              "  content: \"▾\";\n",
              "}\n",
              "\n",
              "/* Pipeline/ColumnTransformer-specific style */\n",
              "\n",
              "#sk-container-id-1 div.sk-label input.sk-toggleable__control:checked~label.sk-toggleable__label {\n",
              "  color: var(--sklearn-color-text);\n",
              "  background-color: var(--sklearn-color-unfitted-level-2);\n",
              "}\n",
              "\n",
              "#sk-container-id-1 div.sk-label.fitted input.sk-toggleable__control:checked~label.sk-toggleable__label {\n",
              "  background-color: var(--sklearn-color-fitted-level-2);\n",
              "}\n",
              "\n",
              "/* Estimator-specific style */\n",
              "\n",
              "/* Colorize estimator box */\n",
              "#sk-container-id-1 div.sk-estimator input.sk-toggleable__control:checked~label.sk-toggleable__label {\n",
              "  /* unfitted */\n",
              "  background-color: var(--sklearn-color-unfitted-level-2);\n",
              "}\n",
              "\n",
              "#sk-container-id-1 div.sk-estimator.fitted input.sk-toggleable__control:checked~label.sk-toggleable__label {\n",
              "  /* fitted */\n",
              "  background-color: var(--sklearn-color-fitted-level-2);\n",
              "}\n",
              "\n",
              "#sk-container-id-1 div.sk-label label.sk-toggleable__label,\n",
              "#sk-container-id-1 div.sk-label label {\n",
              "  /* The background is the default theme color */\n",
              "  color: var(--sklearn-color-text-on-default-background);\n",
              "}\n",
              "\n",
              "/* On hover, darken the color of the background */\n",
              "#sk-container-id-1 div.sk-label:hover label.sk-toggleable__label {\n",
              "  color: var(--sklearn-color-text);\n",
              "  background-color: var(--sklearn-color-unfitted-level-2);\n",
              "}\n",
              "\n",
              "/* Label box, darken color on hover, fitted */\n",
              "#sk-container-id-1 div.sk-label.fitted:hover label.sk-toggleable__label.fitted {\n",
              "  color: var(--sklearn-color-text);\n",
              "  background-color: var(--sklearn-color-fitted-level-2);\n",
              "}\n",
              "\n",
              "/* Estimator label */\n",
              "\n",
              "#sk-container-id-1 div.sk-label label {\n",
              "  font-family: monospace;\n",
              "  font-weight: bold;\n",
              "  display: inline-block;\n",
              "  line-height: 1.2em;\n",
              "}\n",
              "\n",
              "#sk-container-id-1 div.sk-label-container {\n",
              "  text-align: center;\n",
              "}\n",
              "\n",
              "/* Estimator-specific */\n",
              "#sk-container-id-1 div.sk-estimator {\n",
              "  font-family: monospace;\n",
              "  border: 1px dotted var(--sklearn-color-border-box);\n",
              "  border-radius: 0.25em;\n",
              "  box-sizing: border-box;\n",
              "  margin-bottom: 0.5em;\n",
              "  /* unfitted */\n",
              "  background-color: var(--sklearn-color-unfitted-level-0);\n",
              "}\n",
              "\n",
              "#sk-container-id-1 div.sk-estimator.fitted {\n",
              "  /* fitted */\n",
              "  background-color: var(--sklearn-color-fitted-level-0);\n",
              "}\n",
              "\n",
              "/* on hover */\n",
              "#sk-container-id-1 div.sk-estimator:hover {\n",
              "  /* unfitted */\n",
              "  background-color: var(--sklearn-color-unfitted-level-2);\n",
              "}\n",
              "\n",
              "#sk-container-id-1 div.sk-estimator.fitted:hover {\n",
              "  /* fitted */\n",
              "  background-color: var(--sklearn-color-fitted-level-2);\n",
              "}\n",
              "\n",
              "/* Specification for estimator info (e.g. \"i\" and \"?\") */\n",
              "\n",
              "/* Common style for \"i\" and \"?\" */\n",
              "\n",
              ".sk-estimator-doc-link,\n",
              "a:link.sk-estimator-doc-link,\n",
              "a:visited.sk-estimator-doc-link {\n",
              "  float: right;\n",
              "  font-size: smaller;\n",
              "  line-height: 1em;\n",
              "  font-family: monospace;\n",
              "  background-color: var(--sklearn-color-background);\n",
              "  border-radius: 1em;\n",
              "  height: 1em;\n",
              "  width: 1em;\n",
              "  text-decoration: none !important;\n",
              "  margin-left: 0.5em;\n",
              "  text-align: center;\n",
              "  /* unfitted */\n",
              "  border: var(--sklearn-color-unfitted-level-1) 1pt solid;\n",
              "  color: var(--sklearn-color-unfitted-level-1);\n",
              "}\n",
              "\n",
              ".sk-estimator-doc-link.fitted,\n",
              "a:link.sk-estimator-doc-link.fitted,\n",
              "a:visited.sk-estimator-doc-link.fitted {\n",
              "  /* fitted */\n",
              "  border: var(--sklearn-color-fitted-level-1) 1pt solid;\n",
              "  color: var(--sklearn-color-fitted-level-1);\n",
              "}\n",
              "\n",
              "/* On hover */\n",
              "div.sk-estimator:hover .sk-estimator-doc-link:hover,\n",
              ".sk-estimator-doc-link:hover,\n",
              "div.sk-label-container:hover .sk-estimator-doc-link:hover,\n",
              ".sk-estimator-doc-link:hover {\n",
              "  /* unfitted */\n",
              "  background-color: var(--sklearn-color-unfitted-level-3);\n",
              "  color: var(--sklearn-color-background);\n",
              "  text-decoration: none;\n",
              "}\n",
              "\n",
              "div.sk-estimator.fitted:hover .sk-estimator-doc-link.fitted:hover,\n",
              ".sk-estimator-doc-link.fitted:hover,\n",
              "div.sk-label-container:hover .sk-estimator-doc-link.fitted:hover,\n",
              ".sk-estimator-doc-link.fitted:hover {\n",
              "  /* fitted */\n",
              "  background-color: var(--sklearn-color-fitted-level-3);\n",
              "  color: var(--sklearn-color-background);\n",
              "  text-decoration: none;\n",
              "}\n",
              "\n",
              "/* Span, style for the box shown on hovering the info icon */\n",
              ".sk-estimator-doc-link span {\n",
              "  display: none;\n",
              "  z-index: 9999;\n",
              "  position: relative;\n",
              "  font-weight: normal;\n",
              "  right: .2ex;\n",
              "  padding: .5ex;\n",
              "  margin: .5ex;\n",
              "  width: min-content;\n",
              "  min-width: 20ex;\n",
              "  max-width: 50ex;\n",
              "  color: var(--sklearn-color-text);\n",
              "  box-shadow: 2pt 2pt 4pt #999;\n",
              "  /* unfitted */\n",
              "  background: var(--sklearn-color-unfitted-level-0);\n",
              "  border: .5pt solid var(--sklearn-color-unfitted-level-3);\n",
              "}\n",
              "\n",
              ".sk-estimator-doc-link.fitted span {\n",
              "  /* fitted */\n",
              "  background: var(--sklearn-color-fitted-level-0);\n",
              "  border: var(--sklearn-color-fitted-level-3);\n",
              "}\n",
              "\n",
              ".sk-estimator-doc-link:hover span {\n",
              "  display: block;\n",
              "}\n",
              "\n",
              "/* \"?\"-specific style due to the `<a>` HTML tag */\n",
              "\n",
              "#sk-container-id-1 a.estimator_doc_link {\n",
              "  float: right;\n",
              "  font-size: 1rem;\n",
              "  line-height: 1em;\n",
              "  font-family: monospace;\n",
              "  background-color: var(--sklearn-color-background);\n",
              "  border-radius: 1rem;\n",
              "  height: 1rem;\n",
              "  width: 1rem;\n",
              "  text-decoration: none;\n",
              "  /* unfitted */\n",
              "  color: var(--sklearn-color-unfitted-level-1);\n",
              "  border: var(--sklearn-color-unfitted-level-1) 1pt solid;\n",
              "}\n",
              "\n",
              "#sk-container-id-1 a.estimator_doc_link.fitted {\n",
              "  /* fitted */\n",
              "  border: var(--sklearn-color-fitted-level-1) 1pt solid;\n",
              "  color: var(--sklearn-color-fitted-level-1);\n",
              "}\n",
              "\n",
              "/* On hover */\n",
              "#sk-container-id-1 a.estimator_doc_link:hover {\n",
              "  /* unfitted */\n",
              "  background-color: var(--sklearn-color-unfitted-level-3);\n",
              "  color: var(--sklearn-color-background);\n",
              "  text-decoration: none;\n",
              "}\n",
              "\n",
              "#sk-container-id-1 a.estimator_doc_link.fitted:hover {\n",
              "  /* fitted */\n",
              "  background-color: var(--sklearn-color-fitted-level-3);\n",
              "}\n",
              "</style><div id=\"sk-container-id-1\" class=\"sk-top-container\"><div class=\"sk-text-repr-fallback\"><pre>LGBMRegressor(bagging_fraction=0.8524166599608531, bagging_freq=8,\n",
              "              feature_fraction=0.7381739363521873,\n",
              "              learning_rate=0.03550693558050911, metric=&#x27;rmse&#x27;,\n",
              "              min_data_in_leaf=22, n_estimators=1000, num_leaves=131,\n",
              "              objective=&#x27;regression&#x27;, verbosity=-1)</pre><b>In a Jupyter environment, please rerun this cell to show the HTML representation or trust the notebook. <br />On GitHub, the HTML representation is unable to render, please try loading this page with nbviewer.org.</b></div><div class=\"sk-container\" hidden><div class=\"sk-item\"><div class=\"sk-estimator fitted sk-toggleable\"><input class=\"sk-toggleable__control sk-hidden--visually\" id=\"sk-estimator-id-1\" type=\"checkbox\" checked><label for=\"sk-estimator-id-1\" class=\"sk-toggleable__label fitted sk-toggleable__label-arrow\"><div><div>LGBMRegressor</div></div><div><span class=\"sk-estimator-doc-link fitted\">i<span>Fitted</span></span></div></label><div class=\"sk-toggleable__content fitted\"><pre>LGBMRegressor(bagging_fraction=0.8524166599608531, bagging_freq=8,\n",
              "              feature_fraction=0.7381739363521873,\n",
              "              learning_rate=0.03550693558050911, metric=&#x27;rmse&#x27;,\n",
              "              min_data_in_leaf=22, n_estimators=1000, num_leaves=131,\n",
              "              objective=&#x27;regression&#x27;, verbosity=-1)</pre></div> </div></div></div></div>"
            ]
          },
          "metadata": {},
          "execution_count": 18
        }
      ]
    },
    {
      "cell_type": "code",
      "source": [
        "test_preds = final_model.predict(X_test)\n",
        "\n",
        "submission = pd.DataFrame({\n",
        "    'route_key': test['route_key'],\n",
        "    'final_seatcount': test_preds\n",
        "})\n",
        "\n",
        "submission.to_csv('submission_file.csv', index=False)\n",
        "print(\"Submission saved as submission_file.csv\")"
      ],
      "metadata": {
        "colab": {
          "base_uri": "https://localhost:8080/"
        },
        "id": "BRMX9DsOSwgo",
        "outputId": "e2d48718-50ad-42b8-bf3f-7f696f2113ba"
      },
      "execution_count": 19,
      "outputs": [
        {
          "output_type": "stream",
          "name": "stdout",
          "text": [
            "Submission saved as submission_file.csv\n"
          ]
        }
      ]
    },
    {
      "cell_type": "code",
      "source": [
        "oof_preds = final_model.predict(X)\n",
        "total_rmse = np.sqrt(mean_squared_error(y, oof_preds))\n",
        "print(f\"Final RMSE on full training data: {total_rmse:.4f}\")\n"
      ],
      "metadata": {
        "colab": {
          "base_uri": "https://localhost:8080/"
        },
        "id": "6hIc2mNVSyqo",
        "outputId": "dc7a75a0-5317-4edb-cb9e-e662136c730b"
      },
      "execution_count": 21,
      "outputs": [
        {
          "output_type": "stream",
          "name": "stdout",
          "text": [
            "Final RMSE on full training data: 307.2156\n"
          ]
        }
      ]
    },
    {
      "cell_type": "code",
      "source": [
        "from google.colab import files\n",
        "files.download('submission_file.csv')"
      ],
      "metadata": {
        "colab": {
          "base_uri": "https://localhost:8080/",
          "height": 17
        },
        "id": "D4VBv2rMXqhX",
        "outputId": "07b2f560-2cb1-4ed7-f46d-2d18091c3ba5"
      },
      "execution_count": 22,
      "outputs": [
        {
          "output_type": "display_data",
          "data": {
            "text/plain": [
              "<IPython.core.display.Javascript object>"
            ],
            "application/javascript": [
              "\n",
              "    async function download(id, filename, size) {\n",
              "      if (!google.colab.kernel.accessAllowed) {\n",
              "        return;\n",
              "      }\n",
              "      const div = document.createElement('div');\n",
              "      const label = document.createElement('label');\n",
              "      label.textContent = `Downloading \"${filename}\": `;\n",
              "      div.appendChild(label);\n",
              "      const progress = document.createElement('progress');\n",
              "      progress.max = size;\n",
              "      div.appendChild(progress);\n",
              "      document.body.appendChild(div);\n",
              "\n",
              "      const buffers = [];\n",
              "      let downloaded = 0;\n",
              "\n",
              "      const channel = await google.colab.kernel.comms.open(id);\n",
              "      // Send a message to notify the kernel that we're ready.\n",
              "      channel.send({})\n",
              "\n",
              "      for await (const message of channel.messages) {\n",
              "        // Send a message to notify the kernel that we're ready.\n",
              "        channel.send({})\n",
              "        if (message.buffers) {\n",
              "          for (const buffer of message.buffers) {\n",
              "            buffers.push(buffer);\n",
              "            downloaded += buffer.byteLength;\n",
              "            progress.value = downloaded;\n",
              "          }\n",
              "        }\n",
              "      }\n",
              "      const blob = new Blob(buffers, {type: 'application/binary'});\n",
              "      const a = document.createElement('a');\n",
              "      a.href = window.URL.createObjectURL(blob);\n",
              "      a.download = filename;\n",
              "      div.appendChild(a);\n",
              "      a.click();\n",
              "      div.remove();\n",
              "    }\n",
              "  "
            ]
          },
          "metadata": {}
        },
        {
          "output_type": "display_data",
          "data": {
            "text/plain": [
              "<IPython.core.display.Javascript object>"
            ],
            "application/javascript": [
              "download(\"download_e2cd2edf-41cc-4b41-b34d-0b02fe401cb6\", \"submission_file.csv\", 210001)"
            ]
          },
          "metadata": {}
        }
      ]
    }
  ]
}